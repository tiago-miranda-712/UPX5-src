{
 "cells": [
  {
   "cell_type": "code",
   "execution_count": 87,
   "metadata": {},
   "outputs": [
    {
     "name": "stdout",
     "output_type": "stream",
     "text": [
      "id=459377&time=1655756741&value=200\n",
      "<Response [401]>\n"
     ]
    }
   ],
   "source": [
    "import time\n",
    "import requests\n",
    "import json\n",
    "\n",
    "\n",
    "apiKeyDados = \"&apikey=d543ce7857ef68e0809f3f2b1583eb68\"\n",
    "URLDados = \"https://emoncms.org/input/post?node=1&fulljson=\"\n",
    "id = 459377\n",
    "unix_t = int(time.time())\n",
    "Sva = 200\n",
    "\n",
    "apiDados = {\n",
    "    \"use\"\n",
    "}\n",
    "dados = URLDados + apiDados + apiKeyDados\n",
    "print(apiDados)\n",
    "upload = requests.get(https://emoncms.org/input/post?node=emontx&fulljson={\"power1\":100,\"power2\":200,\"power3\":300})\n",
    "print(upload)"
   ]
  }
 ],
 "metadata": {
  "kernelspec": {
   "display_name": "Python 3.10.5 64-bit",
   "language": "python",
   "name": "python3"
  },
  "language_info": {
   "codemirror_mode": {
    "name": "ipython",
    "version": 3
   },
   "file_extension": ".py",
   "mimetype": "text/x-python",
   "name": "python",
   "nbconvert_exporter": "python",
   "pygments_lexer": "ipython3",
   "version": "3.10.5"
  },
  "orig_nbformat": 4,
  "vscode": {
   "interpreter": {
    "hash": "e7370f93d1d0cde622a1f8e1c04877d8463912d04d973331ad4851f04de6915a"
   }
  }
 },
 "nbformat": 4,
 "nbformat_minor": 2
}
